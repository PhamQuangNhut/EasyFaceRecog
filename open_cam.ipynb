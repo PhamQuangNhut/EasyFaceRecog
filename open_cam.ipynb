{
 "cells": [
  {
   "cell_type": "code",
   "execution_count": 4,
   "metadata": {},
   "outputs": [],
   "source": [
    "import cv2\n",
    "import os\n",
    "\n",
    "# Tạo thư mục lưu ảnh nếu chưa tồn tại\n",
    "if not os.path.exists('detected_faces'):\n",
    "    os.makedirs('detected_faces')\n",
    "\n",
    "# Khởi tạo bộ phát hiện khuôn mặt\n",
    "face_cascade = cv2.CascadeClassifier(cv2.data.haarcascades + 'haarcascade_frontalface_default.xml')\n",
    "\n",
    "# Khởi tạo camera\n",
    "cap = cv2.VideoCapture(0)\n",
    "\n",
    "# Số lượng khuôn mặt được phát hiện và lưu\n",
    "face_count = 0\n",
    "\n",
    "while True:\n",
    "    # Đọc từng frame từ camera\n",
    "    ret, frame = cap.read()\n",
    "    if not ret:\n",
    "        print(\"Không thể nhận được frame từ camera. Kiểm tra lại camera của bạn.\")\n",
    "        break\n",
    "\n",
    "    # Chuyển đổi sang ảnh xám để phát hiện khuôn mặt\n",
    "    gray = cv2.cvtColor(frame, cv2.COLOR_BGR2GRAY)\n",
    "\n",
    "    # Phát hiện khuôn mặt trong ảnh\n",
    "    faces = face_cascade.detectMultiScale(gray, 1.1, 4)\n",
    "\n",
    "    # Vẽ hình vuông quanh các khuôn mặt phát hiện\n",
    "    for (x, y, w, h) in faces:\n",
    "        cv2.rectangle(frame, (x, y), (x+w, y+h), (255, 0, 0), 2)\n",
    "\n",
    "        # Lưu ảnh khuôn mặt được phát hiện\n",
    "        face_img = frame[y:y+h, x:x+w]\n",
    "        cv2.imwrite(f'detected_faces/face_{face_count}.jpg', face_img)\n",
    "        face_count += 1\n",
    "\n",
    "    # Hiển thị kết quả\n",
    "    cv2.imshow('Face Detection', frame)\n",
    "\n",
    "    # Đợi phím 'q' để thoát\n",
    "    if cv2.waitKey(1) & 0xFF == ord('q'):\n",
    "        break\n",
    "\n",
    "# Khi xong, giải phóng camera và đóng tất cả cửa sổ\n",
    "cap.release()\n",
    "cv2.destroyAllWindows()\n"
   ]
  }
 ],
 "metadata": {
  "kernelspec": {
   "display_name": "paraface",
   "language": "python",
   "name": "python3"
  },
  "language_info": {
   "codemirror_mode": {
    "name": "ipython",
    "version": 3
   },
   "file_extension": ".py",
   "mimetype": "text/x-python",
   "name": "python",
   "nbconvert_exporter": "python",
   "pygments_lexer": "ipython3",
   "version": "3.10.14"
  }
 },
 "nbformat": 4,
 "nbformat_minor": 2
}
