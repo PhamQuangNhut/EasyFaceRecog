{
 "cells": [
  {
   "cell_type": "code",
   "execution_count": 4,
   "metadata": {},
   "outputs": [
    {
     "name": "stderr",
     "output_type": "stream",
     "text": [
      "C:\\Users\\MSI\\AppData\\Local\\Temp\\ipykernel_11352\\2684878357.py:9: MovedIn20Warning: The ``declarative_base()`` function is now available as sqlalchemy.orm.declarative_base(). (deprecated since: 2.0) (Background on SQLAlchemy 2.0 at: https://sqlalche.me/e/b8d9)\n",
      "  Base = declarative_base()\n"
     ]
    }
   ],
   "source": [
    "from sqlalchemy import create_engine, Column, Integer, String, DateTime, ForeignKey\n",
    "from sqlalchemy.ext.declarative import declarative_base\n",
    "from sqlalchemy.orm import sessionmaker, relationship\n",
    "from datetime import datetime\n",
    "import pytz\n",
    "\n",
    "# Định nghĩa múi giờ GMT+7\n",
    "timezone = pytz.timezone('Etc/GMT-7')\n",
    "Base = declarative_base()\n",
    "\n",
    "class User(Base):\n",
    "    __tablename__ = 'users'\n",
    "    id = Column(Integer, primary_key=True)\n",
    "    full_name = Column(String, nullable=False)\n",
    "    number = Column(String, unique=True, nullable=False)\n",
    "\n",
    "class CheckRecord(Base):\n",
    "    __tablename__ = 'check_records'\n",
    "    id = Column(Integer, primary_key=True)\n",
    "    user_id = Column(Integer, ForeignKey('users.id'))\n",
    "    time = Column(DateTime, default=lambda: datetime.now().replace(second=0, microsecond=0))\n",
    "    type = Column(String, nullable=False)  # 'Check In' hoặc 'Check Out'\n",
    "    user = relationship(\"User\")\n",
    "\n",
    "# Kết nối tới cơ sở dữ liệu SQLite (hoặc cơ sở dữ liệu khác)\n",
    "engine = create_engine('sqlite:///face_check_in_out.db')\n",
    "\n",
    "# Tạo tất cả các bảng\n",
    "Base.metadata.create_all(engine)\n",
    "\n",
    "# Tạo session để thao tác với cơ sở dữ liệu\n",
    "Session = sessionmaker(bind=engine)\n",
    "session = Session()\n",
    "\n",
    "# # Thêm một người dùng mới\n",
    "# new_user = User(full_name='Phạm Quang Nhựt', number='0932417536')\n",
    "# session.add(new_user)\n",
    "# session.commit()\n",
    "\n",
    "# # Thêm một bản ghi check in\n",
    "# check_in = CheckRecord(user_id=new_user.id, type='Check In')\n",
    "# session.add(check_in)\n",
    "# session.commit()"
   ]
  },
  {
   "cell_type": "code",
   "execution_count": 2,
   "metadata": {},
   "outputs": [],
   "source": [
    "check_in = CheckRecord(user_id=new_user.id, type='Check Out')\n",
    "session.add(check_in)\n",
    "session.commit()"
   ]
  },
  {
   "cell_type": "code",
   "execution_count": 3,
   "metadata": {},
   "outputs": [],
   "source": [
    "session.close()\n",
    "\n",
    "# Đóng kết nối với cơ sở dữ liệu\n",
    "engine.dispose()"
   ]
  }
 ],
 "metadata": {
  "kernelspec": {
   "display_name": "Python 3",
   "language": "python",
   "name": "python3"
  },
  "language_info": {
   "codemirror_mode": {
    "name": "ipython",
    "version": 3
   },
   "file_extension": ".py",
   "mimetype": "text/x-python",
   "name": "python",
   "nbconvert_exporter": "python",
   "pygments_lexer": "ipython3",
   "version": "3.10.14"
  }
 },
 "nbformat": 4,
 "nbformat_minor": 2
}
